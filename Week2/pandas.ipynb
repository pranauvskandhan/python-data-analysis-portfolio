{
 "cells": [
  {
   "cell_type": "markdown",
   "metadata": {},
   "source": [
    "intro to Pandas"
   ]
  },
  {
   "cell_type": "markdown",
   "metadata": {},
   "source": [
    "Completed on Aug 6, 2025"
   ]
  },
  {
   "cell_type": "markdown",
   "metadata": {},
   "source": [
    "check stackoverflow, McKinney's book of python for data analysis"
   ]
  },
  {
   "cell_type": "markdown",
   "metadata": {},
   "source": [
    "in this lecture, we're going to explore the pandas series structure. by the end of this lecture u should be familiar w how to store & manipulate single dimensional indexed data in series object."
   ]
  },
  {
   "cell_type": "code",
   "execution_count": 1,
   "metadata": {},
   "outputs": [],
   "source": [
    "import pandas as pd"
   ]
  },
  {
   "cell_type": "code",
   "execution_count": 2,
   "metadata": {},
   "outputs": [
    {
     "data": {
      "text/plain": [
       "0     Alice\n",
       "1      Jack\n",
       "2    Amanda\n",
       "dtype: object"
      ]
     },
     "execution_count": 2,
     "metadata": {},
     "output_type": "execute_result"
    }
   ],
   "source": [
    "# u can create a series by passing in a list of values.\n",
    "# when u do this, pandas automatically assigns an index starting w zero & sets the name of the series to None.\n",
    "\n",
    "# one of the easiest ways to create a series is to use an array-like object, like a list.\n",
    "\n",
    "students=['Alice','Jack','Amanda']\n",
    "\n",
    "# now we call the series function in pandas & pass in the students\n",
    "\n",
    "pd.Series(students)"
   ]
  },
  {
   "cell_type": "code",
   "execution_count": 3,
   "metadata": {},
   "outputs": [],
   "source": [
    "# the results is a Series object which is nicely rendered to the screen. we see the pandas automatically identifying the dtype in Series as \"object\" & \n",
    "# set the datatype parameter as appropirate.  "
   ]
  },
  {
   "cell_type": "code",
   "execution_count": 4,
   "metadata": {},
   "outputs": [
    {
     "data": {
      "text/plain": [
       "0    1\n",
       "1    2\n",
       "2    3\n",
       "dtype: int64"
      ]
     },
     "execution_count": 4,
     "metadata": {},
     "output_type": "execute_result"
    }
   ],
   "source": [
    "numbers=[1,2,3]\n",
    "pd.Series(numbers)"
   ]
  },
  {
   "cell_type": "code",
   "execution_count": 5,
   "metadata": {},
   "outputs": [
    {
     "data": {
      "text/plain": [
       "0    alice\n",
       "1     jack\n",
       "2     None\n",
       "dtype: object"
      ]
     },
     "execution_count": 5,
     "metadata": {},
     "output_type": "execute_result"
    }
   ],
   "source": [
    "# in python, we have the none dtype to indicate a lack of data\n",
    "# pandas does some type conversion\n",
    "# if we create a list of strings & we have 1 element, a None type, pandas inserts it as a None & uses the tyoe object for the underlying array.\n",
    "\n",
    "students=['alice','jack',None]\n",
    "pd.Series(students)"
   ]
  },
  {
   "cell_type": "code",
   "execution_count": 6,
   "metadata": {},
   "outputs": [
    {
     "data": {
      "text/plain": [
       "0    1.0\n",
       "1    2.0\n",
       "2    4.0\n",
       "3    NaN\n",
       "dtype: float64"
      ]
     },
     "execution_count": 6,
     "metadata": {},
     "output_type": "execute_result"
    }
   ],
   "source": [
    "# if we create a list of numbers, integers or floats, and put in the None dtype, pandas automatically converts this to a special \n",
    "# floating poiont value as \"NaN\", which stands for \"Not a Number.\"\n",
    "\n",
    "numbers=[1,2,4,None]\n",
    "pd.Series(numbers)"
   ]
  },
  {
   "cell_type": "code",
   "execution_count": 7,
   "metadata": {},
   "outputs": [],
   "source": [
    "# NaN is a different value\n",
    "# pandas set the dtype of this series to floating point numbers instead of object or ints\n",
    "# pandas represents NaN as a floating point number, and because integers can be typecast to floats, pandas went & converted integers to floats\n",
    "# list of integers arent floats beacause there propbably is some missing data"
   ]
  },
  {
   "cell_type": "code",
   "execution_count": 8,
   "metadata": {},
   "outputs": [
    {
     "data": {
      "text/plain": [
       "False"
      ]
     },
     "execution_count": 8,
     "metadata": {},
     "output_type": "execute_result"
    }
   ],
   "source": [
    "# NaN isnt equilvalent to None\n",
    "\n",
    "import numpy as np\n",
    "np.nan==None\n",
    "\n",
    "# when we try, h=the answer is always False"
   ]
  },
  {
   "cell_type": "code",
   "execution_count": 9,
   "metadata": {},
   "outputs": [
    {
     "data": {
      "text/plain": [
       "False"
      ]
     },
     "execution_count": 9,
     "metadata": {},
     "output_type": "execute_result"
    }
   ],
   "source": [
    "np.nan==np.nan # still false"
   ]
  },
  {
   "cell_type": "code",
   "execution_count": 10,
   "metadata": {},
   "outputs": [
    {
     "data": {
      "text/plain": [
       "np.True_"
      ]
     },
     "execution_count": 10,
     "metadata": {},
     "output_type": "execute_result"
    }
   ],
   "source": [
    "# instead u need to use special functions to test for thr presence of a number\n",
    "# such as the Numpy lib isnan()\n",
    "\n",
    "np.isnan(np.nan)"
   ]
  },
  {
   "cell_type": "code",
   "execution_count": 11,
   "metadata": {},
   "outputs": [
    {
     "data": {
      "text/plain": [
       "Alice     physics\n",
       "jack         math\n",
       "amanda       chem\n",
       "dtype: object"
      ]
     },
     "execution_count": 11,
     "metadata": {},
     "output_type": "execute_result"
    }
   ],
   "source": [
    "# a series can be created directly from dictionary data. when done, the index is automatically assigned to the keys of the dictionary that u\n",
    "# provided & not just incrementing integers\n",
    "\n",
    "student_scores={\n",
    "    'Alice':'physics',\n",
    "    'jack':'math',\n",
    "    'amanda':'chem'\n",
    "}\n",
    "\n",
    "s=pd.Series(student_scores)\n",
    "s"
   ]
  },
  {
   "cell_type": "code",
   "execution_count": 12,
   "metadata": {},
   "outputs": [
    {
     "data": {
      "text/plain": [
       "Index(['Alice', 'jack', 'amanda'], dtype='object')"
      ]
     },
     "execution_count": 12,
     "metadata": {},
     "output_type": "execute_result"
    }
   ],
   "source": [
    "# since its a string data, pandas set the data type of the series to \"object\"\n",
    "# the index, the first column, is also a list of strings\n",
    "\n",
    "# once the series has been created, we can get the index object using the index attribute\n",
    "s.index"
   ]
  },
  {
   "cell_type": "code",
   "execution_count": 13,
   "metadata": {},
   "outputs": [],
   "source": [
    "# as u play w pandas u'll notice that a lot of things are implemented as numpy arrays, & have the dtype values set. \n",
    "# this is true of indices, & here pandas infered that we were using objects for the index "
   ]
  },
  {
   "cell_type": "code",
   "execution_count": 14,
   "metadata": {},
   "outputs": [
    {
     "data": {
      "text/plain": [
       "0     (pedro, pascal)\n",
       "1       (jack, kirby)\n",
       "2    (matt, shackman)\n",
       "dtype: object"
      ]
     },
     "execution_count": 14,
     "metadata": {},
     "output_type": "execute_result"
    }
   ],
   "source": [
    "# the dtype of object is not just for strings, but for arbitrary objects. \n",
    "# eg create a more complex type of data, say, a list of tuples.\n",
    "\n",
    "students=[('pedro','pascal'),('jack','kirby'),('matt','shackman')]\n",
    "pd.Series(students)"
   ]
  },
  {
   "cell_type": "code",
   "execution_count": null,
   "metadata": {},
   "outputs": [],
   "source": [
    "# each of the tuple is stored in the series object, & the type is object"
   ]
  },
  {
   "cell_type": "code",
   "execution_count": 16,
   "metadata": {},
   "outputs": [
    {
     "data": {
      "text/plain": [
       "jack      physics\n",
       "alice        chem\n",
       "amanda       math\n",
       "dtype: object"
      ]
     },
     "execution_count": 16,
     "metadata": {},
     "output_type": "execute_result"
    }
   ],
   "source": [
    "# we can also separate the index creation from the data by passing in the index as a list epsecially to the series\n",
    "\n",
    "s=pd.Series(['physics','chem','math'], index=['jack','alice','amanda'])\n",
    "s"
   ]
  },
  {
   "cell_type": "code",
   "execution_count": 18,
   "metadata": {},
   "outputs": [
    {
     "data": {
      "text/plain": [
       "Alice    NaN\n",
       "molly    NaN\n",
       "sam      NaN\n",
       "dtype: object"
      ]
     },
     "execution_count": 18,
     "metadata": {},
     "output_type": "execute_result"
    }
   ],
   "source": [
    "# so what if ur list of values in the index objet sre not aligned w the keys in ur \n",
    "# dictionary for creating the series? pandas overrides the automatic creation to favor only & all of the indices values that u provided \n",
    "# so it'll ignore from ur dictionary all keys which arent in ur index, & pandas will add None or NaN type values for any index value u provide,\n",
    "# which isnt in ur dictionary key list\n",
    "\n",
    "\n",
    "student_scores={\n",
    "    'alice':'phy',\n",
    "    'jack':'math',\n",
    "    'amanda':'chem'\n",
    "}\n",
    "s=pd.Series(student_scores, index=['Alice','molly','sam'])\n",
    "s"
   ]
  },
  {
   "cell_type": "markdown",
   "metadata": {},
   "source": [
    "in this lecture, we've explored the pandas Series data structure.\n",
    "u've seen how to create a series from lists & dictionaries, how indices work on data work, and the way that pandas typecasts data including missing values."
   ]
  }
 ],
 "metadata": {
  "kernelspec": {
   "display_name": "venv",
   "language": "python",
   "name": "python3"
  },
  "language_info": {
   "codemirror_mode": {
    "name": "ipython",
    "version": 3
   },
   "file_extension": ".py",
   "mimetype": "text/x-python",
   "name": "python",
   "nbconvert_exporter": "python",
   "pygments_lexer": "ipython3",
   "version": "3.13.3"
  }
 },
 "nbformat": 4,
 "nbformat_minor": 2
}
